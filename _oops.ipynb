{
 "cells": [
  {
   "cell_type": "markdown",
   "id": "f2b2790a-b8a2-4b0e-8c4f-768fdabe9003",
   "metadata": {},
   "source": [
    "OOps Assignment"
   ]
  },
  {
   "cell_type": "code",
   "execution_count": null,
   "id": "d4192583-4f22-40fc-b7ab-4e170a7b0f37",
   "metadata": {},
   "outputs": [],
   "source": [
    "1.ans:- Abstraction in OOps\n",
    "        \n",
    "    Abstraction in oops is defined as a process of handling complexity by hiding unnecessary\n",
    "    information from the user. This is one of the core concept of object oriented programming\n",
    "    (OOp) languages.\n",
    "    \n",
    "Example:- Let's take a example from our real life:\n",
    "            \n",
    "            When we use the TV remote to increase the volume. We don't know how pressing a key increases\n",
    "        the volume of the TV. We only know to press the \"+\" button to increase the volume. That is exactly the\n",
    "        abstraction that works in the object oriented concept."
   ]
  },
  {
   "cell_type": "code",
   "execution_count": null,
   "id": "213bb05b-4694-4c03-af9d-1a3ad6d1d124",
   "metadata": {},
   "outputs": [],
   "source": [
    "2,ans:- Difference-\n",
    "    \n",
    "    Abstraction:-\n",
    "                    a: Abstraction solves the problem in design level.\n",
    "                    b: Abstraction is used for hiding the unwanted data and giving relevant data.\n",
    "                    c: Abstraction lets you focus on what the object does instead of how it does it.\n",
    "                \n",
    "                Example:-\n",
    "                            Outer look of mobile phones,like it has a display screen and keypad buttons to dial\n",
    "                            a number.\n",
    "                \n",
    "    Encapsulation:-\n",
    "                    a: Encapsulation solves the problem in implementation level.\n",
    "                    b. Encapsulation means hiding the code and data into a single unit to protect the\n",
    "                        data from outside world.\n",
    "                    c. Encapsulation means hiding the internal details or mechanics of how an object does\n",
    "                        something.\n",
    "                        \n",
    "                Example:-\n",
    "                            Inner Implementation detail of a mobile phones,how keypad button and display\n",
    "                            screen are connect with each other using circuits."
   ]
  },
  {
   "cell_type": "code",
   "execution_count": null,
   "id": "74977d77-3774-479a-9201-8dea165f2cf0",
   "metadata": {},
   "outputs": [],
   "source": [
    "3.ans:- abc module:\n",
    "        \n",
    "        Abstract base classes provide a way to define interfaces when other techniques like hasattr() would be\n",
    "        clumsy or wrong. ABCs introduce virtual subclasses,which are classes that don't inherit from a class but are still\n",
    "        recognized by instance() and issubclass() function.\n",
    "        \n",
    "        uses:-\n",
    "        \n",
    "        The abc module in python library provides the infrastructure for defining custom abstract base classes.\n",
    "        ABC works by marking methods of the base class as abstract. This is done by abstract method decorator. \n",
    "        "
   ]
  },
  {
   "cell_type": "code",
   "execution_count": null,
   "id": "c250915d-1722-4e60-ad5f-02a89385347f",
   "metadata": {},
   "outputs": [],
   "source": [
    "4.ans:- Achievement of data abstraction:\n",
    "    \n",
    "            Data abstraction can be achieved by having abstract classes and methods in our programs.\n",
    "        An abstract method is a method that is declared but does not contain implementation.\n",
    "        "
   ]
  },
  {
   "cell_type": "code",
   "execution_count": null,
   "id": "50b399ba-1da1-4f64-8fc3-94394e0e97f4",
   "metadata": {},
   "outputs": [],
   "source": [
    "5.ans:-  We cannot create an abstract class in python directly. However, Python does provide\n",
    "            a module that allows us to define abstract classes. The module we can use to create\n",
    "            an abstract class in python is abc (abstract base class) module."
   ]
  }
 ],
 "metadata": {
  "kernelspec": {
   "display_name": "Python 3 (ipykernel)",
   "language": "python",
   "name": "python3"
  },
  "language_info": {
   "codemirror_mode": {
    "name": "ipython",
    "version": 3
   },
   "file_extension": ".py",
   "mimetype": "text/x-python",
   "name": "python",
   "nbconvert_exporter": "python",
   "pygments_lexer": "ipython3",
   "version": "3.10.8"
  }
 },
 "nbformat": 4,
 "nbformat_minor": 5
}
